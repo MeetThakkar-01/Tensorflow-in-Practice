{
  "nbformat": 4,
  "nbformat_minor": 0,
  "metadata": {
    "colab": {
      "name": "Exercise 3 - Question.ipynb",
      "provenance": [],
      "collapsed_sections": [],
      "include_colab_link": true
    },
    "kernelspec": {
      "display_name": "Python 3",
      "name": "python3"
    }
  },
  "cells": [
    {
      "cell_type": "markdown",
      "metadata": {
        "id": "view-in-github",
        "colab_type": "text"
      },
      "source": [
        "<a href=\"https://colab.research.google.com/github/poliwal/Tensorflow/blob/master/Exercise_3(ITTFAIMLDL).ipynb\" target=\"_parent\"><img src=\"https://colab.research.google.com/assets/colab-badge.svg\" alt=\"Open In Colab\"/></a>"
      ]
    },
    {
      "cell_type": "markdown",
      "metadata": {
        "colab_type": "text",
        "id": "iQjHqsmTAVLU"
      },
      "source": [
        "## Exercise 3\n",
        "In the videos you looked at how you would improve Fashion MNIST using Convolutions. For your exercise see if you can improve MNIST to 99.8% accuracy or more using only a single convolutional layer and a single MaxPooling 2D. You should stop training once the accuracy goes above this amount. It should happen in less than 20 epochs, so it's ok to hard code the number of epochs for training, but your training must end once it hits the above metric. If it doesn't, then you'll need to redesign your layers.\n",
        "\n",
        "I've started the code for you -- you need to finish it!\n",
        "\n",
        "When 99.8% accuracy has been hit, you should print out the string \"Reached 99.8% accuracy so cancelling training!\"\n"
      ]
    },
    {
      "cell_type": "code",
      "metadata": {
        "colab_type": "code",
        "id": "sfQRyaJWAIdg",
        "outputId": "584f826a-5dab-43dd-9b57-2ea15041366c",
        "colab": {
          "base_uri": "https://localhost:8080/",
          "height": 714
        }
      },
      "source": [
        "import tensorflow as tf\n",
        "\n",
        "# YOUR CODE STARTS HERE\n",
        "class myCallback(tf.keras.callbacks.Callback):\n",
        "  def on_epoch_end(self,epoch,logs={}):\n",
        "    if logs.get(\"accuracy\")>0.998:\n",
        "      print(\"\\nReached 99.8% accuracy so cancelling training!\")\n",
        "      self.model.stop_training = True\n",
        "\n",
        "callbacks = myCallback()\n",
        "# YOUR CODE ENDS HERE\n",
        "\n",
        "mnist = tf.keras.datasets.mnist\n",
        "(training_images, training_labels), (test_images, test_labels) = mnist.load_data()\n",
        "\n",
        "# YOUR CODE STARTS HERE\n",
        "training_images = training_images.reshape(60000,28,28,1)\n",
        "training_images = training_images / 255.0\n",
        "test_images = test_images.reshape(10000,28,28,1)\n",
        "test_images = test_images / 255.0\n",
        "# YOUR CODE ENDS HERE\n",
        "\n",
        "model = tf.keras.models.Sequential([\n",
        "    # YOUR CODE STARTS HERE\n",
        "    tf.keras.layers.Conv2D(16, (3,3), activation='relu', input_shape=(28, 28, 1)),\n",
        "    tf.keras.layers.MaxPooling2D(2, 2),\n",
        "    tf.keras.layers.Flatten(),\n",
        "    tf.keras.layers.Dense(128, activation='relu'),\n",
        "    tf.keras.layers.Dense(10, activation='softmax')\n",
        "    # YOUR CODE ENDS HERE\n",
        "])\n",
        "\n",
        "# YOUR CODE STARTS HERE\n",
        "model.compile(optimizer = 'adam', loss='sparse_categorical_crossentropy', metrics=['accuracy'])\n",
        "model.summary()\n",
        "model.fit(training_images,training_labels,epochs = 20,callbacks = [callbacks])\n",
        "model.evaluate(test_images,test_labels)\n",
        "# YOUR CODE ENDS HERE\n"
      ],
      "execution_count": 0,
      "outputs": [
        {
          "output_type": "stream",
          "text": [
            "Model: \"sequential_1\"\n",
            "_________________________________________________________________\n",
            "Layer (type)                 Output Shape              Param #   \n",
            "=================================================================\n",
            "conv2d_1 (Conv2D)            (None, 26, 26, 16)        160       \n",
            "_________________________________________________________________\n",
            "max_pooling2d_1 (MaxPooling2 (None, 13, 13, 16)        0         \n",
            "_________________________________________________________________\n",
            "flatten_1 (Flatten)          (None, 2704)              0         \n",
            "_________________________________________________________________\n",
            "dense_2 (Dense)              (None, 128)               346240    \n",
            "_________________________________________________________________\n",
            "dense_3 (Dense)              (None, 10)                1290      \n",
            "=================================================================\n",
            "Total params: 347,690\n",
            "Trainable params: 347,690\n",
            "Non-trainable params: 0\n",
            "_________________________________________________________________\n",
            "Epoch 1/20\n",
            "1875/1875 [==============================] - 23s 12ms/step - loss: 0.1674 - accuracy: 0.9511\n",
            "Epoch 2/20\n",
            "1875/1875 [==============================] - 22s 12ms/step - loss: 0.0580 - accuracy: 0.9819\n",
            "Epoch 3/20\n",
            "1875/1875 [==============================] - 22s 11ms/step - loss: 0.0374 - accuracy: 0.9883\n",
            "Epoch 4/20\n",
            "1875/1875 [==============================] - 23s 12ms/step - loss: 0.0254 - accuracy: 0.9921\n",
            "Epoch 5/20\n",
            "1875/1875 [==============================] - 23s 13ms/step - loss: 0.0179 - accuracy: 0.9942\n",
            "Epoch 6/20\n",
            "1875/1875 [==============================] - 23s 12ms/step - loss: 0.0133 - accuracy: 0.9957\n",
            "Epoch 7/20\n",
            "1875/1875 [==============================] - 22s 12ms/step - loss: 0.0091 - accuracy: 0.9970\n",
            "Epoch 8/20\n",
            "1875/1875 [==============================] - 22s 12ms/step - loss: 0.0070 - accuracy: 0.9978\n",
            "Epoch 9/20\n",
            "1875/1875 [==============================] - 23s 12ms/step - loss: 0.0069 - accuracy: 0.9977\n",
            "Epoch 10/20\n",
            "1874/1875 [============================>.] - ETA: 0s - loss: 0.0051 - accuracy: 0.9984\\mReached 99.8% accuracy so cancelling training!\n",
            "1875/1875 [==============================] - 23s 13ms/step - loss: 0.0051 - accuracy: 0.9984\n",
            "313/313 [==============================] - 2s 5ms/step - loss: 0.0566 - accuracy: 0.9861\n"
          ],
          "name": "stdout"
        },
        {
          "output_type": "execute_result",
          "data": {
            "text/plain": [
              "[0.05659809708595276, 0.9861000180244446]"
            ]
          },
          "metadata": {
            "tags": []
          },
          "execution_count": 2
        }
      ]
    }
  ]
}